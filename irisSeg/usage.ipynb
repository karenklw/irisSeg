{
 "cells": [
  {
   "cell_type": "code",
   "execution_count": 1,
   "metadata": {},
   "outputs": [
    {
     "ename": "ImportError",
     "evalue": "cannot import name 'imresize' from 'scipy.misc' (/Users/karenwang/Library/Python/3.9/lib/python/site-packages/scipy/misc/__init__.py)",
     "output_type": "error",
     "traceback": [
      "\u001b[0;31m---------------------------------------------------------------------------\u001b[0m",
      "\u001b[0;31mImportError\u001b[0m                               Traceback (most recent call last)",
      "\u001b[1;32m/Users/karenwang/Extracurriculars/Ganglion/irisSeg/irisSeg/usage.ipynb Cell 1\u001b[0m line \u001b[0;36m1\n\u001b[0;32m----> <a href='vscode-notebook-cell:/Users/karenwang/Extracurriculars/Ganglion/irisSeg/irisSeg/usage.ipynb#W0sZmlsZQ%3D%3D?line=0'>1</a>\u001b[0m \u001b[39mfrom\u001b[39;00m \u001b[39mirisSeg\u001b[39;00m \u001b[39mimport\u001b[39;00m irisSeg\n\u001b[1;32m      <a href='vscode-notebook-cell:/Users/karenwang/Extracurriculars/Ganglion/irisSeg/irisSeg/usage.ipynb#W0sZmlsZQ%3D%3D?line=1'>2</a>\u001b[0m \u001b[39mimport\u001b[39;00m \u001b[39mmatplotlib\u001b[39;00m\u001b[39m.\u001b[39;00m\u001b[39mpyplot\u001b[39;00m \u001b[39mas\u001b[39;00m \u001b[39mplt\u001b[39;00m\n\u001b[1;32m      <a href='vscode-notebook-cell:/Users/karenwang/Extracurriculars/Ganglion/irisSeg/irisSeg/usage.ipynb#W0sZmlsZQ%3D%3D?line=2'>3</a>\u001b[0m \u001b[39m#\u001b[39;00m\n\u001b[1;32m      <a href='vscode-notebook-cell:/Users/karenwang/Extracurriculars/Ganglion/irisSeg/irisSeg/usage.ipynb#W0sZmlsZQ%3D%3D?line=3'>4</a>\u001b[0m \u001b[39m# you can also view using the argument in irisSeq function\u001b[39;00m\n\u001b[1;32m      <a href='vscode-notebook-cell:/Users/karenwang/Extracurriculars/Ganglion/irisSeg/irisSeg/usage.ipynb#W0sZmlsZQ%3D%3D?line=4'>5</a>\u001b[0m \u001b[39m#\u001b[39;00m\n",
      "File \u001b[0;32m~/Library/Python/3.9/lib/python/site-packages/irisSeg/__init__.py:1\u001b[0m\n\u001b[0;32m----> 1\u001b[0m \u001b[39mfrom\u001b[39;00m \u001b[39m.\u001b[39;00m\u001b[39mDaugmanSegementation\u001b[39;00m \u001b[39mimport\u001b[39;00m irisSeg\n\u001b[1;32m      3\u001b[0m Sample_image \u001b[39m=\u001b[39m \u001b[39m'\u001b[39m\u001b[39mData/sample_img.jpg\u001b[39m\u001b[39m'\u001b[39m\n",
      "File \u001b[0;32m~/Library/Python/3.9/lib/python/site-packages/irisSeg/DaugmanSegementation.py:3\u001b[0m\n\u001b[1;32m      1\u001b[0m \u001b[39mimport\u001b[39;00m \u001b[39mnumpy\u001b[39;00m \u001b[39mas\u001b[39;00m \u001b[39mnp\u001b[39;00m\n\u001b[1;32m      2\u001b[0m \u001b[39mimport\u001b[39;00m \u001b[39mcv2\u001b[39;00m\n\u001b[0;32m----> 3\u001b[0m \u001b[39mfrom\u001b[39;00m \u001b[39mscipy\u001b[39;00m\u001b[39m.\u001b[39;00m\u001b[39mmisc\u001b[39;00m \u001b[39mimport\u001b[39;00m imresize\n\u001b[1;32m      4\u001b[0m \u001b[39mfrom\u001b[39;00m \u001b[39mskimage\u001b[39;00m\u001b[39m.\u001b[39;00m\u001b[39mmorphology\u001b[39;00m \u001b[39mimport\u001b[39;00m erosion\n\u001b[1;32m      5\u001b[0m \u001b[39mimport\u001b[39;00m \u001b[39mmatplotlib\u001b[39;00m\u001b[39m.\u001b[39;00m\u001b[39mpyplot\u001b[39;00m \u001b[39mas\u001b[39;00m \u001b[39mplt\u001b[39;00m\n",
      "\u001b[0;31mImportError\u001b[0m: cannot import name 'imresize' from 'scipy.misc' (/Users/karenwang/Library/Python/3.9/lib/python/site-packages/scipy/misc/__init__.py)"
     ]
    }
   ],
   "source": [
    "from irisSeg import irisSeg\n",
    "import matplotlib.pyplot as plt\n",
    "#\n",
    "# you can also view using the argument in irisSeq function\n",
    "#\n",
    "coord_iris, coord_pupil, output_image = irisSeg('Data/same_img.jpg', 40, 70)\n",
    "print(coord_iris) # radius and the coordinates for the center of iris \n",
    "print(coord_pupil) # radius and the coordinates for the center of pupil \n",
    "plt.imshow(output_image)\n",
    "plt.show()"
   ]
  }
 ],
 "metadata": {
  "kernelspec": {
   "display_name": "Python 3",
   "language": "python",
   "name": "python3"
  },
  "language_info": {
   "codemirror_mode": {
    "name": "ipython",
    "version": 3
   },
   "file_extension": ".py",
   "mimetype": "text/x-python",
   "name": "python",
   "nbconvert_exporter": "python",
   "pygments_lexer": "ipython3",
   "version": "3.9.6"
  },
  "orig_nbformat": 4
 },
 "nbformat": 4,
 "nbformat_minor": 2
}
